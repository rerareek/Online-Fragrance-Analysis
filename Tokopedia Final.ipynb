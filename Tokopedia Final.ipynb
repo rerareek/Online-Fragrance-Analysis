{
 "cells": [
  {
   "cell_type": "markdown",
   "metadata": {},
   "source": [
    "# Tokopedia Scrapping Tool using Selenium"
   ]
  },
  {
   "cell_type": "markdown",
   "metadata": {},
   "source": [
    "## Used Libary"
   ]
  },
  {
   "cell_type": "code",
   "execution_count": 1,
   "metadata": {},
   "outputs": [],
   "source": [
    "from selenium import webdriver\n",
    "from selenium.webdriver.common.by import By\n",
    "from selenium.webdriver.common.keys import Keys\n",
    "from selenium.webdriver.firefox.service import Service\n",
    "import pandas as pd\n",
    "import time"
   ]
  },
  {
   "cell_type": "markdown",
   "metadata": {},
   "source": [
    "## Preparing Driver for Selenium"
   ]
  },
  {
   "cell_type": "code",
   "execution_count": 2,
   "metadata": {},
   "outputs": [],
   "source": [
    "gecko_path = 'C:/Users/Adam Ferdinand/OneDrive/Documents/Kampus Binus/Text Mining/Shopee Web/geckodriver-v0.35.0-win-aarch64/geckodriver.exe'"
   ]
  },
  {
   "cell_type": "markdown",
   "metadata": {},
   "source": [
    "### Launch Selenium"
   ]
  },
  {
   "cell_type": "code",
   "execution_count": 3,
   "metadata": {},
   "outputs": [],
   "source": [
    "service = Service(executable_path=gecko_path)\n",
    "driver = webdriver.Firefox(service=service)"
   ]
  },
  {
   "cell_type": "markdown",
   "metadata": {},
   "source": [
    "## Preparing The Url and Scrapping Syntax"
   ]
  },
  {
   "cell_type": "markdown",
   "metadata": {},
   "source": [
    "### Place the link on url "
   ]
  },
  {
   "cell_type": "code",
   "execution_count": 26,
   "metadata": {},
   "outputs": [],
   "source": [
    "url = 'https://www.tokopedia.com/kahfofficial/kahf-revered-oud-eau-de-toilette-35-ml?extParam=cmp%3D1%26ivf%3Dfalse?extParam=whid%3D9930759'\n",
    "driver.get(url)"
   ]
  },
  {
   "cell_type": "markdown",
   "metadata": {},
   "source": [
    "### Empty dataset to store the informations from the website"
   ]
  },
  {
   "cell_type": "code",
   "execution_count": 27,
   "metadata": {},
   "outputs": [],
   "source": [
    "data_reviews = []"
   ]
  },
  {
   "cell_type": "code",
   "execution_count": 28,
   "metadata": {},
   "outputs": [
    {
     "data": {
      "text/plain": [
       "[]"
      ]
     },
     "execution_count": 28,
     "metadata": {},
     "output_type": "execute_result"
    }
   ],
   "source": [
    "data_reviews"
   ]
  },
  {
   "cell_type": "markdown",
   "metadata": {},
   "source": [
    "### Testing"
   ]
  },
  {
   "cell_type": "code",
   "execution_count": 29,
   "metadata": {},
   "outputs": [
    {
     "name": "stdout",
     "output_type": "stream",
     "text": [
      "Nama Pengguna: N***l\n"
     ]
    }
   ],
   "source": [
    "username_element = driver.find_element(By.CLASS_NAME, 'name')\n",
    "username_text = username_element.text\n",
    "print(f\"Nama Pengguna: {username_text}\")"
   ]
  },
  {
   "cell_type": "code",
   "execution_count": 30,
   "metadata": {},
   "outputs": [
    {
     "name": "stdout",
     "output_type": "stream",
     "text": [
      "Nama Pengguna: N***l\n",
      "Rating: bintang 5\n",
      "Review: Wanginya agak bikin puyeng, mungkin karna belum terbiasa\n"
     ]
    }
   ],
   "source": [
    "username_element = driver.find_element(By.CLASS_NAME, 'name')\n",
    "username_text = username_element.text\n",
    "print(f\"Nama Pengguna: {username_text}\")\n",
    "rating_element = driver.find_element(By.CSS_SELECTOR, \"div.rating[aria-label]\")\n",
    "rating = rating_element.get_attribute('aria-label')\n",
    "print(f\"Rating: {rating}\")\n",
    "review_element = driver.find_element(By.CSS_SELECTOR, \"span[data-testid='lblItemUlasan']\")\n",
    "review = review_element.text\n",
    "print(f\"Review: {review}\")\n",
    "            "
   ]
  },
  {
   "cell_type": "markdown",
   "metadata": {},
   "source": [
    "### Scrap Function"
   ]
  },
  {
   "cell_type": "code",
   "execution_count": 31,
   "metadata": {},
   "outputs": [],
   "source": [
    "def scrape_reviews():\n",
    "    articles = driver.find_elements(By.CSS_SELECTOR, 'section#review-feed article')\n",
    "    for article in articles[:10]:  # Ambil hanya 10 ulasan per halaman\n",
    "        try:\n",
    "            # Mengambil nama pengguna\n",
    "            username_element = article.find_element(By.CLASS_NAME, 'name')\n",
    "            username = username_element.text\n",
    "\n",
    "            # Mengambil rating (dari atribut aria-label di dalam div class rating)\n",
    "            rating_element = article.find_element(By.CSS_SELECTOR, \"div.rating[aria-label]\")\n",
    "            rating = rating_element.get_attribute('aria-label')\n",
    "\n",
    "            # Mengambil ulasan\n",
    "            review_element = article.find_element(By.CSS_SELECTOR, \"span[data-testid='lblItemUlasan']\")\n",
    "            review = review_element.text\n",
    "            \n",
    "            # Simpan data ke list\n",
    "            data_reviews.append({\n",
    "                'Nama Pengguna': username,\n",
    "                'Rating': rating,\n",
    "                'Ulasan': review\n",
    "            })\n",
    "        except Exception as e:\n",
    "            print(f\"Terjadi error: {e}\")"
   ]
  },
  {
   "cell_type": "markdown",
   "metadata": {},
   "source": [
    "## Let the Scrapping Beggin"
   ]
  },
  {
   "cell_type": "code",
   "execution_count": 32,
   "metadata": {},
   "outputs": [
    {
     "name": "stdout",
     "output_type": "stream",
     "text": [
      "\n",
      "Scraping halaman 1\n",
      "\n",
      "Scraping halaman 2\n",
      "\n",
      "Scraping halaman 3\n",
      "\n",
      "Scraping halaman 4\n",
      "\n",
      "Scraping halaman 5\n",
      "\n",
      "Scraping halaman 6\n",
      "\n",
      "Scraping halaman 7\n",
      "\n",
      "Scraping halaman 8\n",
      "\n",
      "Scraping halaman 9\n",
      "\n",
      "Scraping halaman 10\n",
      "\n",
      "Scraping halaman 11\n",
      "Terjadi error: Message: Unable to locate element: span[data-testid='lblItemUlasan']; For documentation on this error, please visit: https://www.selenium.dev/documentation/webdriver/troubleshooting/errors#no-such-element-exception\n",
      "Stacktrace:\n",
      "RemoteError@chrome://remote/content/shared/RemoteError.sys.mjs:8:8\n",
      "WebDriverError@chrome://remote/content/shared/webdriver/Errors.sys.mjs:193:5\n",
      "NoSuchElementError@chrome://remote/content/shared/webdriver/Errors.sys.mjs:511:5\n",
      "dom.find/</<@chrome://remote/content/shared/DOM.sys.mjs:136:16\n",
      "\n",
      "\n",
      "Scraping halaman 12\n",
      "\n",
      "Scraping halaman 13\n",
      "\n",
      "Scraping halaman 14\n",
      "\n",
      "Scraping halaman 15\n",
      "\n",
      "Scraping halaman 16\n",
      "Terjadi error: Message: Unable to locate element: span[data-testid='lblItemUlasan']; For documentation on this error, please visit: https://www.selenium.dev/documentation/webdriver/troubleshooting/errors#no-such-element-exception\n",
      "Stacktrace:\n",
      "RemoteError@chrome://remote/content/shared/RemoteError.sys.mjs:8:8\n",
      "WebDriverError@chrome://remote/content/shared/webdriver/Errors.sys.mjs:193:5\n",
      "NoSuchElementError@chrome://remote/content/shared/webdriver/Errors.sys.mjs:511:5\n",
      "dom.find/</<@chrome://remote/content/shared/DOM.sys.mjs:136:16\n",
      "\n",
      "\n",
      "Scraping halaman 17\n",
      "Terjadi error: Message: Unable to locate element: span[data-testid='lblItemUlasan']; For documentation on this error, please visit: https://www.selenium.dev/documentation/webdriver/troubleshooting/errors#no-such-element-exception\n",
      "Stacktrace:\n",
      "RemoteError@chrome://remote/content/shared/RemoteError.sys.mjs:8:8\n",
      "WebDriverError@chrome://remote/content/shared/webdriver/Errors.sys.mjs:193:5\n",
      "NoSuchElementError@chrome://remote/content/shared/webdriver/Errors.sys.mjs:511:5\n",
      "dom.find/</<@chrome://remote/content/shared/DOM.sys.mjs:136:16\n",
      "\n",
      "\n",
      "Scraping halaman 18\n",
      "\n",
      "Scraping halaman 19\n",
      "Terjadi error: Message: Unable to locate element: span[data-testid='lblItemUlasan']; For documentation on this error, please visit: https://www.selenium.dev/documentation/webdriver/troubleshooting/errors#no-such-element-exception\n",
      "Stacktrace:\n",
      "RemoteError@chrome://remote/content/shared/RemoteError.sys.mjs:8:8\n",
      "WebDriverError@chrome://remote/content/shared/webdriver/Errors.sys.mjs:193:5\n",
      "NoSuchElementError@chrome://remote/content/shared/webdriver/Errors.sys.mjs:511:5\n",
      "dom.find/</<@chrome://remote/content/shared/DOM.sys.mjs:136:16\n",
      "\n",
      "\n",
      "Scraping halaman 20\n",
      "\n",
      "Scraping halaman 21\n",
      "\n",
      "Scraping halaman 22\n",
      "Terjadi error: Message: Unable to locate element: span[data-testid='lblItemUlasan']; For documentation on this error, please visit: https://www.selenium.dev/documentation/webdriver/troubleshooting/errors#no-such-element-exception\n",
      "Stacktrace:\n",
      "RemoteError@chrome://remote/content/shared/RemoteError.sys.mjs:8:8\n",
      "WebDriverError@chrome://remote/content/shared/webdriver/Errors.sys.mjs:193:5\n",
      "NoSuchElementError@chrome://remote/content/shared/webdriver/Errors.sys.mjs:511:5\n",
      "dom.find/</<@chrome://remote/content/shared/DOM.sys.mjs:136:16\n",
      "\n",
      "\n",
      "Scraping halaman 23\n",
      "Terjadi error: Message: Unable to locate element: span[data-testid='lblItemUlasan']; For documentation on this error, please visit: https://www.selenium.dev/documentation/webdriver/troubleshooting/errors#no-such-element-exception\n",
      "Stacktrace:\n",
      "RemoteError@chrome://remote/content/shared/RemoteError.sys.mjs:8:8\n",
      "WebDriverError@chrome://remote/content/shared/webdriver/Errors.sys.mjs:193:5\n",
      "NoSuchElementError@chrome://remote/content/shared/webdriver/Errors.sys.mjs:511:5\n",
      "dom.find/</<@chrome://remote/content/shared/DOM.sys.mjs:136:16\n",
      "\n",
      "\n",
      "Scraping halaman 24\n",
      "Terjadi error: Message: Unable to locate element: span[data-testid='lblItemUlasan']; For documentation on this error, please visit: https://www.selenium.dev/documentation/webdriver/troubleshooting/errors#no-such-element-exception\n",
      "Stacktrace:\n",
      "RemoteError@chrome://remote/content/shared/RemoteError.sys.mjs:8:8\n",
      "WebDriverError@chrome://remote/content/shared/webdriver/Errors.sys.mjs:193:5\n",
      "NoSuchElementError@chrome://remote/content/shared/webdriver/Errors.sys.mjs:511:5\n",
      "dom.find/</<@chrome://remote/content/shared/DOM.sys.mjs:136:16\n",
      "\n",
      "Terjadi error: Message: Unable to locate element: span[data-testid='lblItemUlasan']; For documentation on this error, please visit: https://www.selenium.dev/documentation/webdriver/troubleshooting/errors#no-such-element-exception\n",
      "Stacktrace:\n",
      "RemoteError@chrome://remote/content/shared/RemoteError.sys.mjs:8:8\n",
      "WebDriverError@chrome://remote/content/shared/webdriver/Errors.sys.mjs:193:5\n",
      "NoSuchElementError@chrome://remote/content/shared/webdriver/Errors.sys.mjs:511:5\n",
      "dom.find/</<@chrome://remote/content/shared/DOM.sys.mjs:136:16\n",
      "\n",
      "\n",
      "Scraping halaman 25\n",
      "\n",
      "Scraping halaman 26\n",
      "Terjadi error: Message: Unable to locate element: span[data-testid='lblItemUlasan']; For documentation on this error, please visit: https://www.selenium.dev/documentation/webdriver/troubleshooting/errors#no-such-element-exception\n",
      "Stacktrace:\n",
      "RemoteError@chrome://remote/content/shared/RemoteError.sys.mjs:8:8\n",
      "WebDriverError@chrome://remote/content/shared/webdriver/Errors.sys.mjs:193:5\n",
      "NoSuchElementError@chrome://remote/content/shared/webdriver/Errors.sys.mjs:511:5\n",
      "dom.find/</<@chrome://remote/content/shared/DOM.sys.mjs:136:16\n",
      "\n",
      "\n",
      "Scraping halaman 27\n",
      "\n",
      "Scraping halaman 28\n",
      "\n",
      "Scraping halaman 29\n",
      "Terjadi error: Message: Unable to locate element: span[data-testid='lblItemUlasan']; For documentation on this error, please visit: https://www.selenium.dev/documentation/webdriver/troubleshooting/errors#no-such-element-exception\n",
      "Stacktrace:\n",
      "RemoteError@chrome://remote/content/shared/RemoteError.sys.mjs:8:8\n",
      "WebDriverError@chrome://remote/content/shared/webdriver/Errors.sys.mjs:193:5\n",
      "NoSuchElementError@chrome://remote/content/shared/webdriver/Errors.sys.mjs:511:5\n",
      "dom.find/</<@chrome://remote/content/shared/DOM.sys.mjs:136:16\n",
      "\n",
      "\n",
      "Scraping halaman 30\n",
      "\n",
      "Scraping halaman 31\n",
      "\n",
      "Scraping halaman 32\n",
      "\n",
      "Scraping halaman 33\n",
      "\n",
      "Scraping halaman 34\n",
      "\n",
      "Scraping halaman 35\n",
      "\n",
      "Scraping halaman 36\n",
      "Terjadi error: Message: Unable to locate element: span[data-testid='lblItemUlasan']; For documentation on this error, please visit: https://www.selenium.dev/documentation/webdriver/troubleshooting/errors#no-such-element-exception\n",
      "Stacktrace:\n",
      "RemoteError@chrome://remote/content/shared/RemoteError.sys.mjs:8:8\n",
      "WebDriverError@chrome://remote/content/shared/webdriver/Errors.sys.mjs:193:5\n",
      "NoSuchElementError@chrome://remote/content/shared/webdriver/Errors.sys.mjs:511:5\n",
      "dom.find/</<@chrome://remote/content/shared/DOM.sys.mjs:136:16\n",
      "\n",
      "\n",
      "Scraping halaman 37\n",
      "\n",
      "Scraping halaman 38\n",
      "\n",
      "Scraping halaman 39\n",
      "\n",
      "Scraping halaman 40\n",
      "\n",
      "Scraping halaman 41\n",
      "\n",
      "Scraping halaman 42\n",
      "\n",
      "Scraping halaman 43\n",
      "\n",
      "Scraping halaman 44\n",
      "Terjadi error: Message: Unable to locate element: span[data-testid='lblItemUlasan']; For documentation on this error, please visit: https://www.selenium.dev/documentation/webdriver/troubleshooting/errors#no-such-element-exception\n",
      "Stacktrace:\n",
      "RemoteError@chrome://remote/content/shared/RemoteError.sys.mjs:8:8\n",
      "WebDriverError@chrome://remote/content/shared/webdriver/Errors.sys.mjs:193:5\n",
      "NoSuchElementError@chrome://remote/content/shared/webdriver/Errors.sys.mjs:511:5\n",
      "dom.find/</<@chrome://remote/content/shared/DOM.sys.mjs:136:16\n",
      "\n",
      "\n",
      "Scraping halaman 45\n",
      "\n",
      "Scraping halaman 46\n",
      "Terjadi error: Message: Unable to locate element: span[data-testid='lblItemUlasan']; For documentation on this error, please visit: https://www.selenium.dev/documentation/webdriver/troubleshooting/errors#no-such-element-exception\n",
      "Stacktrace:\n",
      "RemoteError@chrome://remote/content/shared/RemoteError.sys.mjs:8:8\n",
      "WebDriverError@chrome://remote/content/shared/webdriver/Errors.sys.mjs:193:5\n",
      "NoSuchElementError@chrome://remote/content/shared/webdriver/Errors.sys.mjs:511:5\n",
      "dom.find/</<@chrome://remote/content/shared/DOM.sys.mjs:136:16\n",
      "\n",
      "\n",
      "Scraping halaman 47\n",
      "\n",
      "Scraping halaman 48\n",
      "Terjadi error: Message: Unable to locate element: span[data-testid='lblItemUlasan']; For documentation on this error, please visit: https://www.selenium.dev/documentation/webdriver/troubleshooting/errors#no-such-element-exception\n",
      "Stacktrace:\n",
      "RemoteError@chrome://remote/content/shared/RemoteError.sys.mjs:8:8\n",
      "WebDriverError@chrome://remote/content/shared/webdriver/Errors.sys.mjs:193:5\n",
      "NoSuchElementError@chrome://remote/content/shared/webdriver/Errors.sys.mjs:511:5\n",
      "dom.find/</<@chrome://remote/content/shared/DOM.sys.mjs:136:16\n",
      "\n",
      "\n",
      "Scraping halaman 49\n"
     ]
    }
   ],
   "source": [
    "for page in range(1, 50):  \n",
    "    print(f\"\\nScraping halaman {page}\")\n",
    "    scrape_reviews()\n",
    "    next_page_button = driver.find_element(By.CSS_SELECTOR, f'button[aria-label=\"Laman {page + 1}\"]')\n",
    "    next_page_button.click()\n",
    "    time.sleep(5)"
   ]
  },
  {
   "cell_type": "markdown",
   "metadata": {},
   "source": [
    "## QUIT!!!!!!"
   ]
  },
  {
   "cell_type": "code",
   "execution_count": 33,
   "metadata": {},
   "outputs": [],
   "source": [
    "driver.quit()"
   ]
  },
  {
   "cell_type": "markdown",
   "metadata": {},
   "source": [
    "## Preparing the dataset"
   ]
  },
  {
   "cell_type": "code",
   "execution_count": 34,
   "metadata": {},
   "outputs": [],
   "source": [
    "df = pd.DataFrame(data_reviews)\n",
    "df.to_csv('ulasan_tokopedia.csv', index=False)"
   ]
  },
  {
   "cell_type": "code",
   "execution_count": 35,
   "metadata": {},
   "outputs": [
    {
     "data": {
      "text/plain": [
       "<bound method DataFrame.info of     Nama Pengguna     Rating  \\\n",
       "0           N***l  bintang 5   \n",
       "1           J***n  bintang 5   \n",
       "2           M***d  bintang 5   \n",
       "3          Hendri  bintang 5   \n",
       "4           y***a  bintang 5   \n",
       "..            ...        ...   \n",
       "471          sony  bintang 5   \n",
       "472          Wino  bintang 5   \n",
       "473        Dhymas  bintang 5   \n",
       "474             B  bintang 5   \n",
       "475         D***n  bintang 5   \n",
       "\n",
       "                                                Ulasan  \n",
       "0    Wanginya agak bikin puyeng, mungkin karna belu...  \n",
       "1                                      Probuk istimewa  \n",
       "2             Packing rapi dan aman (plus bubble wrap)  \n",
       "3                                               mantap  \n",
       "4                                                    .  \n",
       "..                                                 ...  \n",
       "471                                             mantap  \n",
       "472                                asik neh .... sukak  \n",
       "473                            Barang mendarat dg baik  \n",
       "474  mantab dan cepat, wanginya mirp yalil yalili k...  \n",
       "475     cocok sama wangienya formal masuk santai masuk  \n",
       "\n",
       "[476 rows x 3 columns]>"
      ]
     },
     "execution_count": 35,
     "metadata": {},
     "output_type": "execute_result"
    }
   ],
   "source": [
    "df.info"
   ]
  },
  {
   "cell_type": "code",
   "execution_count": null,
   "metadata": {},
   "outputs": [],
   "source": []
  }
 ],
 "metadata": {
  "kernelspec": {
   "display_name": "Python 3",
   "language": "python",
   "name": "python3"
  },
  "language_info": {
   "codemirror_mode": {
    "name": "ipython",
    "version": 3
   },
   "file_extension": ".py",
   "mimetype": "text/x-python",
   "name": "python",
   "nbconvert_exporter": "python",
   "pygments_lexer": "ipython3",
   "version": "3.10.7"
  }
 },
 "nbformat": 4,
 "nbformat_minor": 2
}
